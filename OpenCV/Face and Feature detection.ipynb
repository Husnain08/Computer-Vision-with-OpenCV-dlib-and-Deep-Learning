{
 "cells": [
  {
   "cell_type": "code",
   "execution_count": 1,
   "metadata": {},
   "outputs": [],
   "source": [
    "import numpy as np\n",
    "import cv2"
   ]
  },
  {
   "cell_type": "code",
   "execution_count": 3,
   "metadata": {},
   "outputs": [],
   "source": [
    "# Limitations of template matching\n",
    "#1. Not Scale invariant\n",
    "#2. Not Rotation invariant\n",
    "#3. It requires having a well-formed template and making input assumptions"
   ]
  },
  {
   "cell_type": "code",
   "execution_count": 5,
   "metadata": {},
   "outputs": [
    {
     "name": "stdout",
     "output_type": "stream",
     "text": [
      "0.46597495675086975 (132, 243)\n"
     ]
    }
   ],
   "source": [
    "picture = cv2.imread(\"players.jpg\" , 0)\n",
    "template = cv2.imread(\"template.jpg\" , 0)\n",
    "cv2.imshow(\"Picture\" , picture)\n",
    "cv2.imshow(\"Template\" , template)\n",
    "result = cv2.matchTemplate(picture , template , cv2.TM_CCOEFF_NORMED)\n",
    "\n",
    "# Now, we'll try to find the location of the template on the source image\n",
    "min_val , max_val , min_loc , max_loc = cv2.minMaxLoc(result)\n",
    "print (max_val , max_loc)\n",
    "# Draw a circle around the brightest spot in the result\n",
    "cv2.circle(result , max_loc , 15 , 255, 2)\n",
    "cv2.imshow(\"Result of template matching\" , result)\n",
    "\n",
    "\n",
    "cv2.waitKey(0)\n",
    "cv2.destroyAllWindows()"
   ]
  },
  {
   "cell_type": "markdown",
   "metadata": {},
   "source": [
    "# Haar Cascading"
   ]
  },
  {
   "cell_type": "code",
   "execution_count": 7,
   "metadata": {},
   "outputs": [],
   "source": [
    "img = cv2.imread(\"faces.jpeg\" , 1)\n",
    "gray = cv2.cvtColor(img , cv2.COLOR_BGR2GRAY)\n",
    "classifier = \"haarcascade_frontalface_default.xml\""
   ]
  },
  {
   "cell_type": "code",
   "execution_count": 8,
   "metadata": {},
   "outputs": [],
   "source": [
    "face_cascade = cv2.CascadeClassifier(classifier)"
   ]
  },
  {
   "cell_type": "code",
   "execution_count": 28,
   "metadata": {},
   "outputs": [],
   "source": [
    "# This will contain a list of all the bounding boxes for all the faces detected in an image\n",
    "face_detect = face_cascade.detectMultiScale(gray , scaleFactor = 1.09  , minNeighbors = 5 , minSize = (40,40))\n"
   ]
  },
  {
   "cell_type": "code",
   "execution_count": 29,
   "metadata": {},
   "outputs": [
    {
     "name": "stdout",
     "output_type": "stream",
     "text": [
      "24\n"
     ]
    }
   ],
   "source": [
    "print (len(face_detect))"
   ]
  },
  {
   "cell_type": "code",
   "execution_count": 30,
   "metadata": {},
   "outputs": [],
   "source": [
    "for (x,y,w,h) in face_detect:\n",
    "    cv2.rectangle(img , (x,y) , (x+w , y+h) , (0,255,0) , 2)"
   ]
  },
  {
   "cell_type": "code",
   "execution_count": 35,
   "metadata": {},
   "outputs": [],
   "source": [
    "cv2.imshow(\"Image\" , img)\n",
    "cv2.waitKey(0)\n",
    "cv2.destroyAllWindows()"
   ]
  },
  {
   "cell_type": "markdown",
   "metadata": {},
   "source": [
    "# Eye detection"
   ]
  },
  {
   "cell_type": "code",
   "execution_count": 49,
   "metadata": {},
   "outputs": [
    {
     "name": "stdout",
     "output_type": "stream",
     "text": [
      "36\n"
     ]
    }
   ],
   "source": [
    "img3 = cv2.imread(\"faces.jpeg\" ,1)\n",
    "gray = cv2.cvtColor(img3 , cv2.COLOR_BGR2GRAY )\n",
    "\n",
    "\n",
    "eye_detector = \"haarcascade_eye.xml\"\n",
    "eye_cascade = cv2.CascadeClassifier(eye_detector)\n",
    "eye_detect = eye_cascade.detectMultiScale(gray , scaleFactor = 1.04  , minNeighbors = 20 , minSize = (10,10))\n",
    "\n",
    "print (len(eye_detect))\n",
    "for (x,y,w,h) in eye_detect:\n",
    "    xc = (x + x+w)/2\n",
    "    yc = (y + y+h)/2\n",
    "    radius = w/2\n",
    "    cv2.circle(img3 , (int(xc) , int(yc)) , int(radius) , (255,0,0) , 2)\n",
    "cv2.imshow(\"Eyes\" , img3)  \n",
    "cv2.waitKey(0)\n",
    "cv2.destroyAllWindows()"
   ]
  },
  {
   "cell_type": "code",
   "execution_count": null,
   "metadata": {},
   "outputs": [],
   "source": []
  },
  {
   "cell_type": "code",
   "execution_count": null,
   "metadata": {},
   "outputs": [],
   "source": []
  },
  {
   "cell_type": "code",
   "execution_count": null,
   "metadata": {},
   "outputs": [],
   "source": []
  },
  {
   "cell_type": "code",
   "execution_count": null,
   "metadata": {},
   "outputs": [],
   "source": []
  },
  {
   "cell_type": "code",
   "execution_count": null,
   "metadata": {},
   "outputs": [],
   "source": []
  },
  {
   "cell_type": "code",
   "execution_count": null,
   "metadata": {},
   "outputs": [],
   "source": []
  }
 ],
 "metadata": {
  "kernelspec": {
   "display_name": "Python 3",
   "language": "python",
   "name": "python3"
  },
  "language_info": {
   "codemirror_mode": {
    "name": "ipython",
    "version": 3
   },
   "file_extension": ".py",
   "mimetype": "text/x-python",
   "name": "python",
   "nbconvert_exporter": "python",
   "pygments_lexer": "ipython3",
   "version": "3.7.3"
  }
 },
 "nbformat": 4,
 "nbformat_minor": 2
}
