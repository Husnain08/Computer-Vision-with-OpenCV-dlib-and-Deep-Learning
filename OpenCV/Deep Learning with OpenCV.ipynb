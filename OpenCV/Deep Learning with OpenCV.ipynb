{
 "cells": [
  {
   "cell_type": "code",
   "execution_count": 1,
   "metadata": {},
   "outputs": [],
   "source": [
    "import cv2\n",
    "import numpy as np"
   ]
  },
  {
   "cell_type": "code",
   "execution_count": 53,
   "metadata": {},
   "outputs": [
    {
     "name": "stdout",
     "output_type": "stream",
     "text": [
      "1.  brambling, Fringilla montifringilla (10): Probability 95.2% \n",
      "2.  goldfinch, Carduelis carduelis (11): Probability 1.27% \n",
      "3.  indigo bunting, indigo finch, indigo bird, Passerina cyanea (14): Probability 0.972% \n",
      "4.  junco, snowbird (13): Probability 0.943% \n",
      "5.  robin, American robin, Turdus migratorius (15): Probability 0.716% \n"
     ]
    }
   ],
   "source": [
    "img = cv2.imread(\"bird.jpg\" ,1)\n",
    "cv2.imshow(\"Image\" , img)\n",
    "\n",
    "labels = open(\"synset_words.txt\").read().strip().split(\"\\n\")\n",
    "# find class names from the labels\n",
    "\n",
    "class_name = [r[r.find(' ')+ 1:]  for r in labels]\n",
    "\n",
    "\n",
    "# Caffe model\n",
    "\n",
    "net = cv2.dnn.readNetFromCaffe(\"caffe_model.prototxt\" , \"bvlc_googlenet.caffemodel\")\n",
    "\n",
    "blob = cv2.dnn.blobFromImage(img, 1, (224,224))\n",
    "\n",
    "net.setInput(blob)\n",
    "# forward pass\n",
    "prediction = net.forward()\n",
    "\n",
    "\n",
    "# See top 5 predictions, the labels and the probability associated with each of the label\n",
    "\n",
    "idx = np.argsort(prediction[0])[::-1][:5]\n",
    "\n",
    "for (i , id_) in enumerate(idx):\n",
    "    print('{}.  {} ({}): Probability {:.3}% '. format(i+1 , class_name[id_] , id_ , prediction[0][id_]*100))\n",
    "\n",
    "cv2.imshow(\"Image\" , img)\n",
    "cv2.waitKey(0)\n",
    "cv2.destroyAllWindows()\n"
   ]
  },
  {
   "cell_type": "markdown",
   "metadata": {},
   "source": [
    "# Classification of a video file"
   ]
  },
  {
   "cell_type": "code",
   "execution_count": 61,
   "metadata": {},
   "outputs": [],
   "source": [
    "cap = cv2.VideoCapture(\"video.mp4\")\n",
    "class_name = [r[r.find(' ')+ 1:]  for r in labels]\n",
    "if cap.isOpened == False:\n",
    "    print (\"Cannot open video\")\n",
    "while True:\n",
    "    ret , frame = cap.read()\n",
    "    blob = cv2.dnn.blobFromImage(frame, 1, (224,224))\n",
    "    net.setInput(blob)\n",
    "    # forward pass\n",
    "    prediction = net.forward()\n",
    "    r = 1\n",
    "    for i in np.argsort(prediction[0])[::-1][:5]:\n",
    "        txt = ' \"%s\" probability \"%.3f\" ' % (class_name[i] , prediction[0][i] *100)\n",
    "        cv2.putText(frame , txt , (0 , 25+ 40*r) ,cv2.FONT_HERSHEY_SIMPLEX,1,(255,0,0) , 2)\n",
    "        r +=1\n",
    "    if ret ==  True:\n",
    "        cv2.imshow('Frame' , frame)\n",
    "        if cv2.waitKey(25) & 0xFF == ord('q'):\n",
    "            break\n",
    "    else:\n",
    "        break\n",
    "cap.release()\n",
    "cv2.destroyAllWindows()\n",
    "            "
   ]
  },
  {
   "cell_type": "code",
   "execution_count": null,
   "metadata": {},
   "outputs": [],
   "source": []
  },
  {
   "cell_type": "code",
   "execution_count": null,
   "metadata": {},
   "outputs": [],
   "source": []
  },
  {
   "cell_type": "code",
   "execution_count": null,
   "metadata": {},
   "outputs": [],
   "source": []
  },
  {
   "cell_type": "code",
   "execution_count": null,
   "metadata": {},
   "outputs": [],
   "source": []
  },
  {
   "cell_type": "code",
   "execution_count": null,
   "metadata": {},
   "outputs": [],
   "source": []
  }
 ],
 "metadata": {
  "kernelspec": {
   "display_name": "Python 3",
   "language": "python",
   "name": "python3"
  },
  "language_info": {
   "codemirror_mode": {
    "name": "ipython",
    "version": 3
   },
   "file_extension": ".py",
   "mimetype": "text/x-python",
   "name": "python",
   "nbconvert_exporter": "python",
   "pygments_lexer": "ipython3",
   "version": "3.7.3"
  }
 },
 "nbformat": 4,
 "nbformat_minor": 2
}
